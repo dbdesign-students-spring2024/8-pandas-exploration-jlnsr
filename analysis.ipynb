{
 "cells": [
  {
   "cell_type": "markdown",
   "metadata": {},
   "source": [
    "# pandas exploration\n",
    "In this assignment you will select a data set and do some munging and analysis of it using `pandas`, Jupyter Notebooks, and associated Python-centric data science tools."
   ]
  },
  {
   "attachments": {},
   "cell_type": "markdown",
   "metadata": {},
   "source": [
    "## Set up environment"
   ]
  },
  {
   "attachments": {},
   "cell_type": "markdown",
   "metadata": {},
   "source": [
    "The following lines ensure that `numpy` and `pandas` are installed in the notebook environment.  Depending on your system, this may not be necessary and may be removed."
   ]
  },
  {
   "cell_type": "code",
   "execution_count": 4,
   "metadata": {},
   "outputs": [
    {
     "name": "stdout",
     "output_type": "stream",
     "text": [
      "Requirement already satisfied: numpy in /Users/julien/anaconda3/lib/python3.11/site-packages (1.24.3)\n",
      "Requirement already satisfied: pandas in /Library/Frameworks/Python.framework/Versions/3.12/lib/python3.12/site-packages (2.2.2)\n",
      "Requirement already satisfied: numpy>=1.26.0 in /Library/Frameworks/Python.framework/Versions/3.12/lib/python3.12/site-packages (from pandas) (1.26.3)\n",
      "Requirement already satisfied: python-dateutil>=2.8.2 in /Users/julien/Library/Python/3.12/lib/python/site-packages (from pandas) (2.9.0.post0)\n",
      "Requirement already satisfied: pytz>=2020.1 in /Library/Frameworks/Python.framework/Versions/3.12/lib/python3.12/site-packages (from pandas) (2024.1)\n",
      "Requirement already satisfied: tzdata>=2022.7 in /Library/Frameworks/Python.framework/Versions/3.12/lib/python3.12/site-packages (from pandas) (2024.1)\n",
      "Requirement already satisfied: six>=1.5 in /Users/julien/Library/Python/3.12/lib/python/site-packages (from python-dateutil>=2.8.2->pandas) (1.16.0)\n",
      "\n",
      "\u001b[1m[\u001b[0m\u001b[34;49mnotice\u001b[0m\u001b[1;39;49m]\u001b[0m\u001b[39;49m A new release of pip is available: \u001b[0m\u001b[31;49m23.2.1\u001b[0m\u001b[39;49m -> \u001b[0m\u001b[32;49m24.0\u001b[0m\n",
      "\u001b[1m[\u001b[0m\u001b[34;49mnotice\u001b[0m\u001b[1;39;49m]\u001b[0m\u001b[39;49m To update, run: \u001b[0m\u001b[32;49mpip3 install --upgrade pip\u001b[0m\n",
      "Note: you may need to restart the kernel to use updated packages.\n"
     ]
    }
   ],
   "source": [
    "!pip install numpy\n",
    "%pip install pandas"
   ]
  },
  {
   "cell_type": "markdown",
   "metadata": {},
   "source": [
    "Import the core data science libraries:"
   ]
  },
  {
   "cell_type": "code",
   "execution_count": 135,
   "metadata": {},
   "outputs": [],
   "source": [
    "%matplotlib inline\n",
    "import matplotlib.pyplot as plt\n",
    "import numpy as np\n",
    "import pandas as pd\n",
    "\n",
    "from IPython.display import display, Image, Markdown"
   ]
  },
  {
   "cell_type": "markdown",
   "metadata": {},
   "source": [
    "## Import the raw data\n",
    "In this section, you will import the raw data into a `pandas` DataFrame."
   ]
  },
  {
   "cell_type": "code",
   "execution_count": 6,
   "metadata": {},
   "outputs": [],
   "source": [
    "df = pd.read_csv(\"data/hotelsMotels.csv\")"
   ]
  },
  {
   "cell_type": "markdown",
   "metadata": {},
   "source": [
    "## Data inspection\n",
    "In this section, you will show enough of your data for a viewer to get a general sense of how the data is structured and any unique features of it.  Complete each of the indicated tasks in a Code cell, making sure to include a Markdown cell above each Code cell that explains what is being shown by the code.  \n",
    "- Show 5 rows, selected at random, from the data set.\n",
    "- Show each of the column names and their data types.\n",
    "- Show any unique features of your chosen data set.\n",
    "\n",
    "Feel free to add as many additional cells as you need to help explain the raw data."
   ]
  },
  {
   "cell_type": "markdown",
   "metadata": {},
   "source": [
    "## Show 5 rows"
   ]
  },
  {
   "cell_type": "code",
   "execution_count": 7,
   "metadata": {},
   "outputs": [
    {
     "data": {
      "text/html": [
       "<div>\n",
       "<style scoped>\n",
       "    .dataframe tbody tr th:only-of-type {\n",
       "        vertical-align: middle;\n",
       "    }\n",
       "\n",
       "    .dataframe tbody tr th {\n",
       "        vertical-align: top;\n",
       "    }\n",
       "\n",
       "    .dataframe thead th {\n",
       "        text-align: right;\n",
       "    }\n",
       "</style>\n",
       "<table border=\"1\" class=\"dataframe\">\n",
       "  <thead>\n",
       "    <tr style=\"text-align: right;\">\n",
       "      <th></th>\n",
       "      <th>the_geom</th>\n",
       "      <th>OBJECTID</th>\n",
       "      <th>BusinessAddress</th>\n",
       "      <th>BusinessName</th>\n",
       "      <th>BusinessStartDate</th>\n",
       "      <th>BusinessType</th>\n",
       "      <th>City</th>\n",
       "      <th>LocationX</th>\n",
       "      <th>LocationY</th>\n",
       "      <th>State</th>\n",
       "      <th>Suite</th>\n",
       "      <th>Zip</th>\n",
       "    </tr>\n",
       "  </thead>\n",
       "  <tbody>\n",
       "    <tr>\n",
       "      <th>95</th>\n",
       "      <td>POINT (-90.074643014889 29.974160125824)</td>\n",
       "      <td>107</td>\n",
       "      <td>2257 BAYOU RD</td>\n",
       "      <td>BENACHI HOUSE</td>\n",
       "      <td>2017-05-18</td>\n",
       "      <td>4703 - BED &amp; BREAKFAST INNS</td>\n",
       "      <td>NEW ORLEANS</td>\n",
       "      <td>3.679346e+06</td>\n",
       "      <td>538282.219913</td>\n",
       "      <td>LA</td>\n",
       "      <td>NaN</td>\n",
       "      <td>70119</td>\n",
       "    </tr>\n",
       "    <tr>\n",
       "      <th>277</th>\n",
       "      <td>POINT (-90.089447647193 29.956286201868)</td>\n",
       "      <td>159</td>\n",
       "      <td>2222 POYDRAS ST</td>\n",
       "      <td>DA EMPIRE</td>\n",
       "      <td>2024-01-30</td>\n",
       "      <td>4701 - HOTELS (EXC CASINO HOTELS) &amp; MOTELS</td>\n",
       "      <td>NEW ORLEANS</td>\n",
       "      <td>3.674729e+06</td>\n",
       "      <td>531731.397187</td>\n",
       "      <td>LA</td>\n",
       "      <td>NaN</td>\n",
       "      <td>70119</td>\n",
       "    </tr>\n",
       "    <tr>\n",
       "      <th>56</th>\n",
       "      <td>POINT (-90.075243150609 29.97358462261)</td>\n",
       "      <td>315</td>\n",
       "      <td>2306 ESPLANADE AVE</td>\n",
       "      <td>DEGAS HOUSE</td>\n",
       "      <td>2021-09-30</td>\n",
       "      <td>4701 - HOTELS (EXC CASINO HOTELS) &amp; MOTELS</td>\n",
       "      <td>NEW ORLEANS</td>\n",
       "      <td>3.679158e+06</td>\n",
       "      <td>538070.858377</td>\n",
       "      <td>LA</td>\n",
       "      <td>NaN</td>\n",
       "      <td>70119</td>\n",
       "    </tr>\n",
       "    <tr>\n",
       "      <th>11</th>\n",
       "      <td>POINT (-90.065547194647 29.956227745827)</td>\n",
       "      <td>279</td>\n",
       "      <td>621 ST LOUIS ST</td>\n",
       "      <td>ROYAL ORLEANS HOTEL</td>\n",
       "      <td>1987-12-01</td>\n",
       "      <td>4701 - HOTELS (EXC CASINO HOTELS) &amp; MOTELS</td>\n",
       "      <td>NEW ORLEANS</td>\n",
       "      <td>3.682298e+06</td>\n",
       "      <td>531793.086915</td>\n",
       "      <td>LA</td>\n",
       "      <td>NaN</td>\n",
       "      <td>70130</td>\n",
       "    </tr>\n",
       "    <tr>\n",
       "      <th>111</th>\n",
       "      <td>POINT (-90.067321926293 29.951344003058)</td>\n",
       "      <td>329</td>\n",
       "      <td>114 MAGAZINE ST</td>\n",
       "      <td>BEST WEST ST CHRIS HOTEL</td>\n",
       "      <td>2004-06-22</td>\n",
       "      <td>4701 - HOTELS (EXC CASINO HOTELS) &amp; MOTELS</td>\n",
       "      <td>NEW ORLEANS</td>\n",
       "      <td>3.681755e+06</td>\n",
       "      <td>530010.965505</td>\n",
       "      <td>LA</td>\n",
       "      <td>NaN</td>\n",
       "      <td>70130</td>\n",
       "    </tr>\n",
       "  </tbody>\n",
       "</table>\n",
       "</div>"
      ],
      "text/plain": [
       "                                     the_geom  OBJECTID     BusinessAddress  \\\n",
       "95   POINT (-90.074643014889 29.974160125824)       107       2257 BAYOU RD   \n",
       "277  POINT (-90.089447647193 29.956286201868)       159     2222 POYDRAS ST   \n",
       "56    POINT (-90.075243150609 29.97358462261)       315  2306 ESPLANADE AVE   \n",
       "11   POINT (-90.065547194647 29.956227745827)       279     621 ST LOUIS ST   \n",
       "111  POINT (-90.067321926293 29.951344003058)       329     114 MAGAZINE ST   \n",
       "\n",
       "                 BusinessName BusinessStartDate  \\\n",
       "95              BENACHI HOUSE        2017-05-18   \n",
       "277                 DA EMPIRE        2024-01-30   \n",
       "56                DEGAS HOUSE        2021-09-30   \n",
       "11        ROYAL ORLEANS HOTEL        1987-12-01   \n",
       "111  BEST WEST ST CHRIS HOTEL        2004-06-22   \n",
       "\n",
       "                                   BusinessType         City     LocationX  \\\n",
       "95                  4703 - BED & BREAKFAST INNS  NEW ORLEANS  3.679346e+06   \n",
       "277  4701 - HOTELS (EXC CASINO HOTELS) & MOTELS  NEW ORLEANS  3.674729e+06   \n",
       "56   4701 - HOTELS (EXC CASINO HOTELS) & MOTELS  NEW ORLEANS  3.679158e+06   \n",
       "11   4701 - HOTELS (EXC CASINO HOTELS) & MOTELS  NEW ORLEANS  3.682298e+06   \n",
       "111  4701 - HOTELS (EXC CASINO HOTELS) & MOTELS  NEW ORLEANS  3.681755e+06   \n",
       "\n",
       "         LocationY State Suite    Zip  \n",
       "95   538282.219913    LA   NaN  70119  \n",
       "277  531731.397187    LA   NaN  70119  \n",
       "56   538070.858377    LA   NaN  70119  \n",
       "11   531793.086915    LA   NaN  70130  \n",
       "111  530010.965505    LA   NaN  70130  "
      ]
     },
     "execution_count": 7,
     "metadata": {},
     "output_type": "execute_result"
    }
   ],
   "source": [
    "df.sample(5)"
   ]
  },
  {
   "cell_type": "markdown",
   "metadata": {},
   "source": [
    "## Show each column name and data type"
   ]
  },
  {
   "cell_type": "code",
   "execution_count": 8,
   "metadata": {},
   "outputs": [
    {
     "name": "stdout",
     "output_type": "stream",
     "text": [
      "<class 'pandas.core.frame.DataFrame'>\n",
      "RangeIndex: 381 entries, 0 to 380\n",
      "Data columns (total 12 columns):\n",
      " #   Column             Non-Null Count  Dtype  \n",
      "---  ------             --------------  -----  \n",
      " 0   the_geom           381 non-null    object \n",
      " 1   OBJECTID           381 non-null    int64  \n",
      " 2   BusinessAddress    381 non-null    object \n",
      " 3   BusinessName       381 non-null    object \n",
      " 4   BusinessStartDate  381 non-null    object \n",
      " 5   BusinessType       381 non-null    object \n",
      " 6   City               381 non-null    object \n",
      " 7   LocationX          381 non-null    float64\n",
      " 8   LocationY          381 non-null    float64\n",
      " 9   State              381 non-null    object \n",
      " 10  Suite              11 non-null     object \n",
      " 11  Zip                381 non-null    object \n",
      "dtypes: float64(2), int64(1), object(9)\n",
      "memory usage: 35.8+ KB\n"
     ]
    }
   ],
   "source": [
    "df.info()"
   ]
  },
  {
   "cell_type": "markdown",
   "metadata": {},
   "source": [
    "## Show Unique Feature  \n",
    "There are "
   ]
  },
  {
   "cell_type": "code",
   "execution_count": null,
   "metadata": {},
   "outputs": [],
   "source": []
  },
  {
   "cell_type": "markdown",
   "metadata": {},
   "source": [
    "## Data munging\n",
    "Place your **data munging** code and documentation within this section.  \n",
    "- Keep each of your Code cells short and focused on a single task.  \n",
    "- Include a Markdown cell above each code cell that describes what task the code within the code cell is performing.\n",
    "- Make as many code cells as you need to complete the munging - a few have been created for you to start with.\n",
    "- Display 5 sample rows of the modified data after each transformation so a viewer can see how the data has changed.\n",
    "\n",
    "**Note**: If you believe that your data set does not require any munging, please explain in detail.  Create Markdown cells that explain your thinking and create Code cells that show any specific structures of the data you refer to in your explanation."
   ]
  },
  {
   "cell_type": "code",
   "execution_count": 9,
   "metadata": {},
   "outputs": [],
   "source": [
    "import csv"
   ]
  },
  {
   "cell_type": "markdown",
   "metadata": {},
   "source": [
    "## Define some functions that will be used to munge the data"
   ]
  },
  {
   "cell_type": "markdown",
   "metadata": {},
   "source": [
    "### 1. Identify fields we don't want and 'mark' them for further processing"
   ]
  },
  {
   "cell_type": "code",
   "execution_count": 10,
   "metadata": {},
   "outputs": [],
   "source": [
    "def identify_unneccessary_fields(data_set,list_of_unwanted_fields):\n",
    "    ''' \n",
    "    Takes a list of dictionaries, where each dictionary item is a record in a dataset\n",
    "    AND a list of the 'unwanted' fields as Strings\n",
    "    Identifies the values, in the data set, for those fields in each record and replaces them with a marker\n",
    "    Returns the modified dataset with \"---\" as the value in each record for the given fields\n",
    "    '''\n",
    "    for record in data_set.copy(): #iterate through shallow copy so changes can be made to the size of the actual object without raising an error\n",
    "        for field,value in record.items():\n",
    "            if field in list_of_unwanted_fields:\n",
    "                record[field] = \"---\""
   ]
  },
  {
   "cell_type": "markdown",
   "metadata": {},
   "source": [
    "### 2. Remove all fields previously 'marked'"
   ]
  },
  {
   "cell_type": "code",
   "execution_count": 11,
   "metadata": {},
   "outputs": [],
   "source": [
    "def remove_unneccessary_fields(data_set):\n",
    "    '''\n",
    "    Takes a list of dictionaries, i.e. dataset\n",
    "    Deletes all entries previously 'marked'\n",
    "    '''\n",
    "    for record in data_set:\n",
    "        for field,value in (record.copy()).items():\n",
    "            if value == \"---\": #now remove all uneccessary fields\n",
    "                del record[field]\n",
    "    return data_set"
   ]
  },
  {
   "cell_type": "markdown",
   "metadata": {},
   "source": [
    "### 3. Remove any commas for a record's string value in a given field. Unexpected commas in one datacell will be treated as a new data field when parsed into a CSV file."
   ]
  },
  {
   "cell_type": "code",
   "execution_count": 12,
   "metadata": {},
   "outputs": [],
   "source": [
    "def remove_commas(data_set,field):\n",
    "    for record in data_set:\n",
    "        value = record[field]\n",
    "        if \",\" in value:\n",
    "            record[field] = value.replace(\",\",\"\")"
   ]
  },
  {
   "cell_type": "markdown",
   "metadata": {},
   "source": [
    "### 3. 'Clean' up the data, i.e. make it more presentable for later analysis"
   ]
  },
  {
   "cell_type": "code",
   "execution_count": 13,
   "metadata": {},
   "outputs": [],
   "source": [
    "def clean_up(data_set,field):\n",
    "    ''' \n",
    "    Takes a dataset and converts the values for the given field to Title Case \n",
    "    '''\n",
    "    for record in data_set:\n",
    "        record[field] = str.title(record[field])\n",
    "    return data_set"
   ]
  },
  {
   "cell_type": "markdown",
   "metadata": {},
   "source": [
    "### Example . . ."
   ]
  },
  {
   "cell_type": "code",
   "execution_count": 14,
   "metadata": {},
   "outputs": [
    {
     "data": {
      "text/plain": [
       "'Hello World'"
      ]
     },
     "execution_count": 14,
     "metadata": {},
     "output_type": "execute_result"
    }
   ],
   "source": [
    "my_dataset = [\n",
    "    {\"field 1\":\"hello world\",\"field 2\":2,\"field 3\":True},\n",
    "    {\"field 1\":\"a string value\",\"field 2\":2,\"field 3\":False}\n",
    "]\n",
    "my_cleaned_dataset = clean_up(my_dataset,\"field 1\")\n",
    "my_cleaned_dataset[0][\"field 1\"]"
   ]
  },
  {
   "cell_type": "markdown",
   "metadata": {},
   "source": [
    "### 4. The final stage for munging this dataset; performs operations that are entirely unique/relevant to this data set."
   ]
  },
  {
   "cell_type": "code",
   "execution_count": 15,
   "metadata": {},
   "outputs": [],
   "source": [
    "def perform_munging_unique_to_dataset(all_data):\n",
    "    ''' \n",
    "    'Cleans' the values in the \"BusinessType\" fields\n",
    "    '''\n",
    "    for record in all_data:\n",
    "        for field,value in (record.copy()).items():\n",
    "            if field == \"BusinessType\":\n",
    "                #criteria\n",
    "                if value.startswith(\"880\"):\n",
    "                    record[field] = \"Bed & Breakfast 1 to 5 rooms\"\n",
    "                elif value.startswith(\"4704\"):\n",
    "                    record[field] = \"Traveler Accomodation\"\n",
    "                else:\n",
    "                    record[field] = value[7:]#slice-out the number prefix                \n",
    "    return(all_data)"
   ]
  },
  {
   "cell_type": "markdown",
   "metadata": {},
   "source": [
    "## The main program"
   ]
  },
  {
   "cell_type": "markdown",
   "metadata": {},
   "source": [
    "### Open the CSV file 'hotelsMotels.csv'"
   ]
  },
  {
   "cell_type": "code",
   "execution_count": 16,
   "metadata": {},
   "outputs": [
    {
     "data": {
      "text/plain": [
       "[{'the_geom': 'POINT (-90.071030376898 29.95488864286)',\n",
       "  'OBJECTID': '124',\n",
       "  'BusinessAddress': '921 CANAL ST',\n",
       "  'BusinessName': 'THE RITZ CARLTON HOTEL CO LLC',\n",
       "  'BusinessStartDate': '2000-10-01',\n",
       "  'BusinessType': '4701 - HOTELS (EXC CASINO HOTELS) & MOTELS',\n",
       "  'City': 'NEW ORLEANS',\n",
       "  'LocationX': '3680566.91771',\n",
       "  'LocationY': '531286.97037',\n",
       "  'State': 'LA',\n",
       "  'Suite': '',\n",
       "  'Zip': '70112'},\n",
       " {'the_geom': 'POINT (-90.073969129731 29.971202236413)',\n",
       "  'OBJECTID': '377',\n",
       "  'BusinessAddress': '1210 N GALVEZ ST',\n",
       "  'BusinessName': 'ACCESSORY B&B',\n",
       "  'BusinessStartDate': '2023-07-25',\n",
       "  'BusinessType': '4703 - BED & BREAKFAST INNS',\n",
       "  'City': 'NEW ORLEANS',\n",
       "  'LocationX': '3679571.14485',\n",
       "  'LocationY': '537208.9634',\n",
       "  'State': 'LA',\n",
       "  'Suite': '',\n",
       "  'Zip': '70116'},\n",
       " {'the_geom': 'POINT (-90.074462750216 29.940925532513)',\n",
       "  'OBJECTID': '26',\n",
       "  'BusinessAddress': '1225 ST CHARLES AVE',\n",
       "  'BusinessName': 'THE QUISBY',\n",
       "  'BusinessStartDate': '2016-11-17',\n",
       "  'BusinessType': '4701 - HOTELS (EXC CASINO HOTELS) & MOTELS',\n",
       "  'City': 'NEW ORLEANS',\n",
       "  'LocationX': '3679535.82018',\n",
       "  'LocationY': '526197.515134',\n",
       "  'State': 'LA',\n",
       "  'Suite': '',\n",
       "  'Zip': '70130'},\n",
       " {'the_geom': 'POINT (-90.062056933203 29.969158643396)',\n",
       "  'OBJECTID': '158',\n",
       "  'BusinessAddress': '1724 MARAIS ST',\n",
       "  'BusinessName': 'L’AUBERGE PLACAGE',\n",
       "  'BusinessStartDate': '2023-12-07',\n",
       "  'BusinessType': '4703 - BED & BREAKFAST INNS',\n",
       "  'City': 'NEW ORLEANS',\n",
       "  'LocationX': '3683350.83759',\n",
       "  'LocationY': '536507.483847',\n",
       "  'State': 'LA',\n",
       "  'Suite': '',\n",
       "  'Zip': '70116'},\n",
       " {'the_geom': 'POINT (-90.074806737681 29.954144572852)',\n",
       "  'OBJECTID': '191',\n",
       "  'BusinessAddress': '212 LOYOLA AVE',\n",
       "  'BusinessName': 'SONESTA ES SUITES NEW OLEANS',\n",
       "  'BusinessStartDate': '2019-12-09',\n",
       "  'BusinessType': '4701 - HOTELS (EXC CASINO HOTELS) & MOTELS',\n",
       "  'City': 'NEW ORLEANS',\n",
       "  'LocationX': '3679374.08296',\n",
       "  'LocationY': '531003.245378',\n",
       "  'State': 'LA',\n",
       "  'Suite': '',\n",
       "  'Zip': '70112'}]"
      ]
     },
     "execution_count": 16,
     "metadata": {},
     "output_type": "execute_result"
    }
   ],
   "source": [
    "with open(\"data/hotelsMotels.csv\",\"r\") as file:\n",
    "    all_data = list(csv.DictReader(file))\n",
    "all_data[:5]"
   ]
  },
  {
   "cell_type": "markdown",
   "metadata": {},
   "source": [
    "### Munging Stage - 1"
   ]
  },
  {
   "cell_type": "code",
   "execution_count": 17,
   "metadata": {},
   "outputs": [
    {
     "data": {
      "text/plain": [
       "[{'the_geom': '---',\n",
       "  'OBJECTID': '124',\n",
       "  'BusinessAddress': '921 CANAL ST',\n",
       "  'BusinessName': 'THE RITZ CARLTON HOTEL CO LLC',\n",
       "  'BusinessStartDate': '2000-10-01',\n",
       "  'BusinessType': '4701 - HOTELS (EXC CASINO HOTELS) & MOTELS',\n",
       "  'City': '---',\n",
       "  'LocationX': '3680566.91771',\n",
       "  'LocationY': '531286.97037',\n",
       "  'State': 'LA',\n",
       "  'Suite': '---',\n",
       "  'Zip': '70112'},\n",
       " {'the_geom': '---',\n",
       "  'OBJECTID': '377',\n",
       "  'BusinessAddress': '1210 N GALVEZ ST',\n",
       "  'BusinessName': 'ACCESSORY B&B',\n",
       "  'BusinessStartDate': '2023-07-25',\n",
       "  'BusinessType': '4703 - BED & BREAKFAST INNS',\n",
       "  'City': '---',\n",
       "  'LocationX': '3679571.14485',\n",
       "  'LocationY': '537208.9634',\n",
       "  'State': 'LA',\n",
       "  'Suite': '---',\n",
       "  'Zip': '70116'},\n",
       " {'the_geom': '---',\n",
       "  'OBJECTID': '26',\n",
       "  'BusinessAddress': '1225 ST CHARLES AVE',\n",
       "  'BusinessName': 'THE QUISBY',\n",
       "  'BusinessStartDate': '2016-11-17',\n",
       "  'BusinessType': '4701 - HOTELS (EXC CASINO HOTELS) & MOTELS',\n",
       "  'City': '---',\n",
       "  'LocationX': '3679535.82018',\n",
       "  'LocationY': '526197.515134',\n",
       "  'State': 'LA',\n",
       "  'Suite': '---',\n",
       "  'Zip': '70130'},\n",
       " {'the_geom': '---',\n",
       "  'OBJECTID': '158',\n",
       "  'BusinessAddress': '1724 MARAIS ST',\n",
       "  'BusinessName': 'L’AUBERGE PLACAGE',\n",
       "  'BusinessStartDate': '2023-12-07',\n",
       "  'BusinessType': '4703 - BED & BREAKFAST INNS',\n",
       "  'City': '---',\n",
       "  'LocationX': '3683350.83759',\n",
       "  'LocationY': '536507.483847',\n",
       "  'State': 'LA',\n",
       "  'Suite': '---',\n",
       "  'Zip': '70116'},\n",
       " {'the_geom': '---',\n",
       "  'OBJECTID': '191',\n",
       "  'BusinessAddress': '212 LOYOLA AVE',\n",
       "  'BusinessName': 'SONESTA ES SUITES NEW OLEANS',\n",
       "  'BusinessStartDate': '2019-12-09',\n",
       "  'BusinessType': '4701 - HOTELS (EXC CASINO HOTELS) & MOTELS',\n",
       "  'City': '---',\n",
       "  'LocationX': '3679374.08296',\n",
       "  'LocationY': '531003.245378',\n",
       "  'State': 'LA',\n",
       "  'Suite': '---',\n",
       "  'Zip': '70112'}]"
      ]
     },
     "execution_count": 17,
     "metadata": {},
     "output_type": "execute_result"
    }
   ],
   "source": [
    "identify_unneccessary_fields(all_data,[\"the_geom\",\"City\",\"Suite\",\"Location\"])\n",
    "all_data[:5]"
   ]
  },
  {
   "cell_type": "markdown",
   "metadata": {},
   "source": [
    "### Munging Stage - 2"
   ]
  },
  {
   "cell_type": "code",
   "execution_count": 18,
   "metadata": {},
   "outputs": [
    {
     "data": {
      "text/plain": [
       "[{'OBJECTID': '124',\n",
       "  'BusinessAddress': '921 CANAL ST',\n",
       "  'BusinessName': 'THE RITZ CARLTON HOTEL CO LLC',\n",
       "  'BusinessStartDate': '2000-10-01',\n",
       "  'BusinessType': '4701 - HOTELS (EXC CASINO HOTELS) & MOTELS',\n",
       "  'LocationX': '3680566.91771',\n",
       "  'LocationY': '531286.97037',\n",
       "  'State': 'LA',\n",
       "  'Zip': '70112'},\n",
       " {'OBJECTID': '377',\n",
       "  'BusinessAddress': '1210 N GALVEZ ST',\n",
       "  'BusinessName': 'ACCESSORY B&B',\n",
       "  'BusinessStartDate': '2023-07-25',\n",
       "  'BusinessType': '4703 - BED & BREAKFAST INNS',\n",
       "  'LocationX': '3679571.14485',\n",
       "  'LocationY': '537208.9634',\n",
       "  'State': 'LA',\n",
       "  'Zip': '70116'},\n",
       " {'OBJECTID': '26',\n",
       "  'BusinessAddress': '1225 ST CHARLES AVE',\n",
       "  'BusinessName': 'THE QUISBY',\n",
       "  'BusinessStartDate': '2016-11-17',\n",
       "  'BusinessType': '4701 - HOTELS (EXC CASINO HOTELS) & MOTELS',\n",
       "  'LocationX': '3679535.82018',\n",
       "  'LocationY': '526197.515134',\n",
       "  'State': 'LA',\n",
       "  'Zip': '70130'},\n",
       " {'OBJECTID': '158',\n",
       "  'BusinessAddress': '1724 MARAIS ST',\n",
       "  'BusinessName': 'L’AUBERGE PLACAGE',\n",
       "  'BusinessStartDate': '2023-12-07',\n",
       "  'BusinessType': '4703 - BED & BREAKFAST INNS',\n",
       "  'LocationX': '3683350.83759',\n",
       "  'LocationY': '536507.483847',\n",
       "  'State': 'LA',\n",
       "  'Zip': '70116'},\n",
       " {'OBJECTID': '191',\n",
       "  'BusinessAddress': '212 LOYOLA AVE',\n",
       "  'BusinessName': 'SONESTA ES SUITES NEW OLEANS',\n",
       "  'BusinessStartDate': '2019-12-09',\n",
       "  'BusinessType': '4701 - HOTELS (EXC CASINO HOTELS) & MOTELS',\n",
       "  'LocationX': '3679374.08296',\n",
       "  'LocationY': '531003.245378',\n",
       "  'State': 'LA',\n",
       "  'Zip': '70112'}]"
      ]
     },
     "execution_count": 18,
     "metadata": {},
     "output_type": "execute_result"
    }
   ],
   "source": [
    "remove_unneccessary_fields(all_data)\n",
    "all_data[:5]"
   ]
  },
  {
   "cell_type": "markdown",
   "metadata": {},
   "source": [
    "### Munging Stage - 3"
   ]
  },
  {
   "cell_type": "code",
   "execution_count": 19,
   "metadata": {},
   "outputs": [
    {
     "name": "stdout",
     "output_type": "stream",
     "text": [
      "COUNTRY INN & SUITES,NEW ORLEANS I-10 EAST\n"
     ]
    },
    {
     "data": {
      "text/plain": [
       "{'OBJECTID': '67',\n",
       " 'BusinessAddress': '5801 READ BLVD',\n",
       " 'BusinessName': 'COUNTRY INN & SUITESNEW ORLEANS I-10 EAST',\n",
       " 'BusinessStartDate': '2019-02-15',\n",
       " 'BusinessType': '4701 - HOTELS (EXC CASINO HOTELS) & MOTELS',\n",
       " 'LocationX': '3711130.32971',\n",
       " 'LocationY': '560962.831134',\n",
       " 'State': 'LA',\n",
       " 'Zip': '70127'}"
      ]
     },
     "execution_count": 19,
     "metadata": {},
     "output_type": "execute_result"
    }
   ],
   "source": [
    "print(all_data[9][\"BusinessName\"])\n",
    "remove_commas(all_data,\"BusinessName\")\n",
    "all_data[9]"
   ]
  },
  {
   "cell_type": "markdown",
   "metadata": {},
   "source": [
    "### Munging Stage - 3"
   ]
  },
  {
   "cell_type": "code",
   "execution_count": 20,
   "metadata": {},
   "outputs": [
    {
     "data": {
      "text/plain": [
       "[{'OBJECTID': '124',\n",
       "  'BusinessAddress': '921 Canal St',\n",
       "  'BusinessName': 'THE RITZ CARLTON HOTEL CO LLC',\n",
       "  'BusinessStartDate': '2000-10-01',\n",
       "  'BusinessType': '4701 - HOTELS (EXC CASINO HOTELS) & MOTELS',\n",
       "  'LocationX': '3680566.91771',\n",
       "  'LocationY': '531286.97037',\n",
       "  'State': 'LA',\n",
       "  'Zip': '70112'},\n",
       " {'OBJECTID': '377',\n",
       "  'BusinessAddress': '1210 N Galvez St',\n",
       "  'BusinessName': 'ACCESSORY B&B',\n",
       "  'BusinessStartDate': '2023-07-25',\n",
       "  'BusinessType': '4703 - BED & BREAKFAST INNS',\n",
       "  'LocationX': '3679571.14485',\n",
       "  'LocationY': '537208.9634',\n",
       "  'State': 'LA',\n",
       "  'Zip': '70116'},\n",
       " {'OBJECTID': '26',\n",
       "  'BusinessAddress': '1225 St Charles Ave',\n",
       "  'BusinessName': 'THE QUISBY',\n",
       "  'BusinessStartDate': '2016-11-17',\n",
       "  'BusinessType': '4701 - HOTELS (EXC CASINO HOTELS) & MOTELS',\n",
       "  'LocationX': '3679535.82018',\n",
       "  'LocationY': '526197.515134',\n",
       "  'State': 'LA',\n",
       "  'Zip': '70130'},\n",
       " {'OBJECTID': '158',\n",
       "  'BusinessAddress': '1724 Marais St',\n",
       "  'BusinessName': 'L’AUBERGE PLACAGE',\n",
       "  'BusinessStartDate': '2023-12-07',\n",
       "  'BusinessType': '4703 - BED & BREAKFAST INNS',\n",
       "  'LocationX': '3683350.83759',\n",
       "  'LocationY': '536507.483847',\n",
       "  'State': 'LA',\n",
       "  'Zip': '70116'},\n",
       " {'OBJECTID': '191',\n",
       "  'BusinessAddress': '212 Loyola Ave',\n",
       "  'BusinessName': 'SONESTA ES SUITES NEW OLEANS',\n",
       "  'BusinessStartDate': '2019-12-09',\n",
       "  'BusinessType': '4701 - HOTELS (EXC CASINO HOTELS) & MOTELS',\n",
       "  'LocationX': '3679374.08296',\n",
       "  'LocationY': '531003.245378',\n",
       "  'State': 'LA',\n",
       "  'Zip': '70112'}]"
      ]
     },
     "execution_count": 20,
     "metadata": {},
     "output_type": "execute_result"
    }
   ],
   "source": [
    "clean_up(all_data,\"BusinessAddress\")\n",
    "all_data[:5]"
   ]
  },
  {
   "cell_type": "markdown",
   "metadata": {},
   "source": [
    "### Munging Stage - 4"
   ]
  },
  {
   "cell_type": "code",
   "execution_count": 21,
   "metadata": {},
   "outputs": [
    {
     "data": {
      "text/plain": [
       "[{'OBJECTID': '124',\n",
       "  'BusinessAddress': '921 Canal St',\n",
       "  'BusinessName': 'THE RITZ CARLTON HOTEL CO LLC',\n",
       "  'BusinessStartDate': '2000-10-01',\n",
       "  'BusinessType': 'HOTELS (EXC CASINO HOTELS) & MOTELS',\n",
       "  'LocationX': '3680566.91771',\n",
       "  'LocationY': '531286.97037',\n",
       "  'State': 'LA',\n",
       "  'Zip': '70112'},\n",
       " {'OBJECTID': '377',\n",
       "  'BusinessAddress': '1210 N Galvez St',\n",
       "  'BusinessName': 'ACCESSORY B&B',\n",
       "  'BusinessStartDate': '2023-07-25',\n",
       "  'BusinessType': 'BED & BREAKFAST INNS',\n",
       "  'LocationX': '3679571.14485',\n",
       "  'LocationY': '537208.9634',\n",
       "  'State': 'LA',\n",
       "  'Zip': '70116'},\n",
       " {'OBJECTID': '26',\n",
       "  'BusinessAddress': '1225 St Charles Ave',\n",
       "  'BusinessName': 'THE QUISBY',\n",
       "  'BusinessStartDate': '2016-11-17',\n",
       "  'BusinessType': 'HOTELS (EXC CASINO HOTELS) & MOTELS',\n",
       "  'LocationX': '3679535.82018',\n",
       "  'LocationY': '526197.515134',\n",
       "  'State': 'LA',\n",
       "  'Zip': '70130'},\n",
       " {'OBJECTID': '158',\n",
       "  'BusinessAddress': '1724 Marais St',\n",
       "  'BusinessName': 'L’AUBERGE PLACAGE',\n",
       "  'BusinessStartDate': '2023-12-07',\n",
       "  'BusinessType': 'BED & BREAKFAST INNS',\n",
       "  'LocationX': '3683350.83759',\n",
       "  'LocationY': '536507.483847',\n",
       "  'State': 'LA',\n",
       "  'Zip': '70116'},\n",
       " {'OBJECTID': '191',\n",
       "  'BusinessAddress': '212 Loyola Ave',\n",
       "  'BusinessName': 'SONESTA ES SUITES NEW OLEANS',\n",
       "  'BusinessStartDate': '2019-12-09',\n",
       "  'BusinessType': 'HOTELS (EXC CASINO HOTELS) & MOTELS',\n",
       "  'LocationX': '3679374.08296',\n",
       "  'LocationY': '531003.245378',\n",
       "  'State': 'LA',\n",
       "  'Zip': '70112'}]"
      ]
     },
     "execution_count": 21,
     "metadata": {},
     "output_type": "execute_result"
    }
   ],
   "source": [
    "cleaned_data = perform_munging_unique_to_dataset(all_data) \n",
    "cleaned_data[:5]"
   ]
  },
  {
   "cell_type": "markdown",
   "metadata": {},
   "source": [
    "## Creating a new 'cleaned' file for the data"
   ]
  },
  {
   "cell_type": "markdown",
   "metadata": {},
   "source": [
    "### Inserting the first line (i.e. headers) and all records into the new CSV file"
   ]
  },
  {
   "cell_type": "code",
   "execution_count": 22,
   "metadata": {},
   "outputs": [],
   "source": [
    "with open(\"data/hotelsMotels_clean.csv\", \"w\") as output:\n",
    "    headers = \"\" #first line\n",
    "    for (index,key) in enumerate(list(all_data[1].keys())):\n",
    "        if index == len(list(all_data[1].keys()))-1:\n",
    "            headers += (str(key)+\"\\n\")\n",
    "        else:\n",
    "            headers += (str(key)+\",\")\n",
    "    output.write(headers)\n",
    "    \n",
    "    line = \"\"\n",
    "    for row in all_data:##fix\n",
    "        #create a list of all data for each field (of each row) that will dynamically change for each row\n",
    "        data = list(row.values())\n",
    "        for (index,value) in enumerate(data):\n",
    "            if index == len(list(row.values()))-1:\n",
    "                if value == '': #if there are any fields with an empty String for a value, set that value to \"---\" so empty values can be parsed correctly when writing to the CSV file\n",
    "                    line += \"---\" + \"\\n\"\n",
    "                else:   \n",
    "                    line += value + \"\\n\"\n",
    "            else:\n",
    "                if value == '':\n",
    "                    line += \"---\" + \",\"\n",
    "                else:\n",
    "                    line += value + \",\"\n",
    "        output.write(line)\n",
    "        line = \"\""
   ]
  },
  {
   "cell_type": "markdown",
   "metadata": {},
   "source": [
    "## Data analysis\n",
    "Place your **data analysis** code and documentation within this section.\n",
    "- Perform at least 5 different statistical or other analyses of different aspects of the data.\n",
    "    - Your analyses must be specific and relevant to your chosen data set and show interesting aspects of it.\n",
    "    - Include at least one analysis that includes grouping rows by a shared attribute and performing some kind of statistical analysis on each group.\n",
    "    - Sort the data in at least 1 of your analyses, but sort on its own does not constitute an analysis on its own.\n",
    "- Keep each of your Code cells short and focused on a single task.\n",
    "- Include a Markdown cell above each Code cell that describes what task the code within the Code cell is performing.\n",
    "- Make as many code cells as you need to complete the analysis - a few have been created for you to start with."
   ]
  },
  {
   "cell_type": "code",
   "execution_count": 23,
   "metadata": {},
   "outputs": [
    {
     "data": {
      "text/html": [
       "<div>\n",
       "<style scoped>\n",
       "    .dataframe tbody tr th:only-of-type {\n",
       "        vertical-align: middle;\n",
       "    }\n",
       "\n",
       "    .dataframe tbody tr th {\n",
       "        vertical-align: top;\n",
       "    }\n",
       "\n",
       "    .dataframe thead th {\n",
       "        text-align: right;\n",
       "    }\n",
       "</style>\n",
       "<table border=\"1\" class=\"dataframe\">\n",
       "  <thead>\n",
       "    <tr style=\"text-align: right;\">\n",
       "      <th></th>\n",
       "      <th>OBJECTID</th>\n",
       "      <th>LocationX</th>\n",
       "      <th>LocationY</th>\n",
       "    </tr>\n",
       "  </thead>\n",
       "  <tbody>\n",
       "    <tr>\n",
       "      <th>count</th>\n",
       "      <td>381.000000</td>\n",
       "      <td>3.810000e+02</td>\n",
       "      <td>381.000000</td>\n",
       "    </tr>\n",
       "    <tr>\n",
       "      <th>mean</th>\n",
       "      <td>191.000000</td>\n",
       "      <td>3.682118e+06</td>\n",
       "      <td>532372.770436</td>\n",
       "    </tr>\n",
       "    <tr>\n",
       "      <th>std</th>\n",
       "      <td>110.129469</td>\n",
       "      <td>6.808601e+03</td>\n",
       "      <td>7105.052251</td>\n",
       "    </tr>\n",
       "    <tr>\n",
       "      <th>min</th>\n",
       "      <td>1.000000</td>\n",
       "      <td>3.663297e+06</td>\n",
       "      <td>519724.881272</td>\n",
       "    </tr>\n",
       "    <tr>\n",
       "      <th>25%</th>\n",
       "      <td>96.000000</td>\n",
       "      <td>3.679333e+06</td>\n",
       "      <td>529321.569345</td>\n",
       "    </tr>\n",
       "    <tr>\n",
       "      <th>50%</th>\n",
       "      <td>191.000000</td>\n",
       "      <td>3.681355e+06</td>\n",
       "      <td>531225.766210</td>\n",
       "    </tr>\n",
       "    <tr>\n",
       "      <th>75%</th>\n",
       "      <td>286.000000</td>\n",
       "      <td>3.683387e+06</td>\n",
       "      <td>535097.164806</td>\n",
       "    </tr>\n",
       "    <tr>\n",
       "      <th>max</th>\n",
       "      <td>381.000000</td>\n",
       "      <td>3.726825e+06</td>\n",
       "      <td>565770.890339</td>\n",
       "    </tr>\n",
       "  </tbody>\n",
       "</table>\n",
       "</div>"
      ],
      "text/plain": [
       "         OBJECTID     LocationX      LocationY\n",
       "count  381.000000  3.810000e+02     381.000000\n",
       "mean   191.000000  3.682118e+06  532372.770436\n",
       "std    110.129469  6.808601e+03    7105.052251\n",
       "min      1.000000  3.663297e+06  519724.881272\n",
       "25%     96.000000  3.679333e+06  529321.569345\n",
       "50%    191.000000  3.681355e+06  531225.766210\n",
       "75%    286.000000  3.683387e+06  535097.164806\n",
       "max    381.000000  3.726825e+06  565770.890339"
      ]
     },
     "execution_count": 23,
     "metadata": {},
     "output_type": "execute_result"
    }
   ],
   "source": [
    "cleaned_df = pd.read_csv(\"data/hotelsMotels_clean.csv\")\n",
    "cleaned_df.describe()"
   ]
  },
  {
   "cell_type": "markdown",
   "metadata": {},
   "source": [
    "## Types of Businesses in this Dataset "
   ]
  },
  {
   "cell_type": "code",
   "execution_count": 24,
   "metadata": {},
   "outputs": [
    {
     "data": {
      "text/plain": [
       "count                                     381\n",
       "unique                                      6\n",
       "top       HOTELS (EXC CASINO HOTELS) & MOTELS\n",
       "freq                                      253\n",
       "Name: BusinessType, dtype: object"
      ]
     },
     "execution_count": 24,
     "metadata": {},
     "output_type": "execute_result"
    }
   ],
   "source": [
    "cleaned_df[\"BusinessType\"].describe()"
   ]
  },
  {
   "cell_type": "code",
   "execution_count": 25,
   "metadata": {},
   "outputs": [
    {
     "data": {
      "text/plain": [
       "BusinessType\n",
       "HOTELS (EXC CASINO HOTELS) & MOTELS    253\n",
       "BED & BREAKFAST INNS                    99\n",
       "Bed & Breakfast 1 to 5 rooms            14\n",
       "ROOMING & BOARDING HOUSES               11\n",
       "Traveler Accomodation                    3\n",
       "CASINO HOTELS                            1\n",
       "Name: count, dtype: int64"
      ]
     },
     "execution_count": 25,
     "metadata": {},
     "output_type": "execute_result"
    }
   ],
   "source": [
    "cleaned_df[\"BusinessType\"].value_counts()"
   ]
  },
  {
   "cell_type": "code",
   "execution_count": 26,
   "metadata": {},
   "outputs": [
    {
     "data": {
      "text/plain": [
       "66.40419947506561"
      ]
     },
     "execution_count": 26,
     "metadata": {},
     "output_type": "execute_result"
    }
   ],
   "source": [
    "cleaned_df[\"BusinessType\"].value_counts().max() * ( 100/381)"
   ]
  },
  {
   "cell_type": "markdown",
   "metadata": {},
   "source": [
    "The 'BusinessType' with the most amount of entries in this dataset is 'HOTELS (EXC CASINO HOTELS) & MOTELS', accounting for 253 out of the 381 total entries, or 66.40%."
   ]
  },
  {
   "cell_type": "code",
   "execution_count": 27,
   "metadata": {},
   "outputs": [
    {
     "data": {
      "text/html": [
       "<div>\n",
       "<style scoped>\n",
       "    .dataframe tbody tr th:only-of-type {\n",
       "        vertical-align: middle;\n",
       "    }\n",
       "\n",
       "    .dataframe tbody tr th {\n",
       "        vertical-align: top;\n",
       "    }\n",
       "\n",
       "    .dataframe thead th {\n",
       "        text-align: right;\n",
       "    }\n",
       "</style>\n",
       "<table border=\"1\" class=\"dataframe\">\n",
       "  <thead>\n",
       "    <tr style=\"text-align: right;\">\n",
       "      <th></th>\n",
       "      <th>BusinessAddress</th>\n",
       "      <th>BusinessName</th>\n",
       "      <th>BusinessStartDate</th>\n",
       "      <th>BusinessType</th>\n",
       "    </tr>\n",
       "  </thead>\n",
       "  <tbody>\n",
       "    <tr>\n",
       "      <th>61</th>\n",
       "      <td>2727 St Charles Ave</td>\n",
       "      <td>THE GRAND VICTORIAN BED &amp; BREAKFAST</td>\n",
       "      <td>1998-10-01</td>\n",
       "      <td>HOTELS (EXC CASINO HOTELS) &amp; MOTELS</td>\n",
       "    </tr>\n",
       "    <tr>\n",
       "      <th>251</th>\n",
       "      <td>2222 Burgundy St</td>\n",
       "      <td>MAISON GRACE</td>\n",
       "      <td>2019-03-27</td>\n",
       "      <td>HOTELS (EXC CASINO HOTELS) &amp; MOTELS</td>\n",
       "    </tr>\n",
       "    <tr>\n",
       "      <th>123</th>\n",
       "      <td>1430 St Charles Ave</td>\n",
       "      <td>SONDER USA</td>\n",
       "      <td>2021-11-29</td>\n",
       "      <td>HOTELS (EXC CASINO HOTELS) &amp; MOTELS</td>\n",
       "    </tr>\n",
       "    <tr>\n",
       "      <th>195</th>\n",
       "      <td>4180 Old Gentilly Road</td>\n",
       "      <td>DAYS INN</td>\n",
       "      <td>2021-11-10</td>\n",
       "      <td>HOTELS (EXC CASINO HOTELS) &amp; MOTELS</td>\n",
       "    </tr>\n",
       "    <tr>\n",
       "      <th>300</th>\n",
       "      <td>623 Canal St</td>\n",
       "      <td>SONDER USA</td>\n",
       "      <td>2021-04-06</td>\n",
       "      <td>HOTELS (EXC CASINO HOTELS) &amp; MOTELS</td>\n",
       "    </tr>\n",
       "  </tbody>\n",
       "</table>\n",
       "</div>"
      ],
      "text/plain": [
       "            BusinessAddress                         BusinessName  \\\n",
       "61      2727 St Charles Ave  THE GRAND VICTORIAN BED & BREAKFAST   \n",
       "251        2222 Burgundy St                         MAISON GRACE   \n",
       "123     1430 St Charles Ave                           SONDER USA   \n",
       "195  4180 Old Gentilly Road                             DAYS INN   \n",
       "300            623 Canal St                           SONDER USA   \n",
       "\n",
       "    BusinessStartDate                         BusinessType  \n",
       "61         1998-10-01  HOTELS (EXC CASINO HOTELS) & MOTELS  \n",
       "251        2019-03-27  HOTELS (EXC CASINO HOTELS) & MOTELS  \n",
       "123        2021-11-29  HOTELS (EXC CASINO HOTELS) & MOTELS  \n",
       "195        2021-11-10  HOTELS (EXC CASINO HOTELS) & MOTELS  \n",
       "300        2021-04-06  HOTELS (EXC CASINO HOTELS) & MOTELS  "
      ]
     },
     "execution_count": 27,
     "metadata": {},
     "output_type": "execute_result"
    }
   ],
   "source": [
    "cleaned_df[ cleaned_df[\"BusinessType\"] == 'HOTELS (EXC CASINO HOTELS) & MOTELS'][ ['BusinessAddress','BusinessName','BusinessStartDate','BusinessType'] ].sample(5)"
   ]
  },
  {
   "cell_type": "markdown",
   "metadata": {},
   "source": [
    "## Let's take a look at the only 'Casino Hotel' in this dataset"
   ]
  },
  {
   "cell_type": "code",
   "execution_count": 28,
   "metadata": {},
   "outputs": [
    {
     "data": {
      "text/html": [
       "<div>\n",
       "<style scoped>\n",
       "    .dataframe tbody tr th:only-of-type {\n",
       "        vertical-align: middle;\n",
       "    }\n",
       "\n",
       "    .dataframe tbody tr th {\n",
       "        vertical-align: top;\n",
       "    }\n",
       "\n",
       "    .dataframe thead th {\n",
       "        text-align: right;\n",
       "    }\n",
       "</style>\n",
       "<table border=\"1\" class=\"dataframe\">\n",
       "  <thead>\n",
       "    <tr style=\"text-align: right;\">\n",
       "      <th></th>\n",
       "      <th>OBJECTID</th>\n",
       "      <th>BusinessAddress</th>\n",
       "      <th>BusinessName</th>\n",
       "      <th>BusinessStartDate</th>\n",
       "      <th>BusinessType</th>\n",
       "      <th>LocationX</th>\n",
       "      <th>LocationY</th>\n",
       "      <th>State</th>\n",
       "      <th>Zip</th>\n",
       "    </tr>\n",
       "  </thead>\n",
       "  <tbody>\n",
       "    <tr>\n",
       "      <th>170</th>\n",
       "      <td>290</td>\n",
       "      <td>228 Poydras St</td>\n",
       "      <td>HARRAH'S POYDRAS HOTEL</td>\n",
       "      <td>2006-09-17</td>\n",
       "      <td>CASINO HOTELS</td>\n",
       "      <td>3.682272e+06</td>\n",
       "      <td>528907.947328</td>\n",
       "      <td>LA</td>\n",
       "      <td>70130</td>\n",
       "    </tr>\n",
       "  </tbody>\n",
       "</table>\n",
       "</div>"
      ],
      "text/plain": [
       "     OBJECTID BusinessAddress            BusinessName BusinessStartDate  \\\n",
       "170       290  228 Poydras St  HARRAH'S POYDRAS HOTEL        2006-09-17   \n",
       "\n",
       "      BusinessType     LocationX      LocationY State    Zip  \n",
       "170  CASINO HOTELS  3.682272e+06  528907.947328    LA  70130  "
      ]
     },
     "execution_count": 28,
     "metadata": {},
     "output_type": "execute_result"
    }
   ],
   "source": [
    "cleaned_df[cleaned_df[\"BusinessType\"] == 'CASINO HOTELS']"
   ]
  },
  {
   "cell_type": "markdown",
   "metadata": {},
   "source": [
    "Notice there are only 366 results for unique names within this dataset which contains 381 records. This means that different instances of the Hotel/motel's entity are related. A hotel chain may have several different locations, or two different bussinesses may have the same name with no inherent connections. In order to ascertain whether or not different instances/bussinesses are related, it is useful to see the data in the other fields, such as 'BusinessType'. Perhaps if different businesses have the same name and type, they most likely belong to a chain. The value_counts() query above returns all unique values for the 'BusinessName' field, along with the number of instances. 'SEXTAINT STAYS' is the most numerous value, with a total of 5 instances in this dataset. To do some further investigation, let's see the different locations for SEXTANT STAYS.     "
   ]
  },
  {
   "cell_type": "code",
   "execution_count": 29,
   "metadata": {},
   "outputs": [
    {
     "data": {
      "text/html": [
       "<div>\n",
       "<style scoped>\n",
       "    .dataframe tbody tr th:only-of-type {\n",
       "        vertical-align: middle;\n",
       "    }\n",
       "\n",
       "    .dataframe tbody tr th {\n",
       "        vertical-align: top;\n",
       "    }\n",
       "\n",
       "    .dataframe thead th {\n",
       "        text-align: right;\n",
       "    }\n",
       "</style>\n",
       "<table border=\"1\" class=\"dataframe\">\n",
       "  <thead>\n",
       "    <tr style=\"text-align: right;\">\n",
       "      <th></th>\n",
       "      <th>BusinessAddress</th>\n",
       "      <th>BusinessName</th>\n",
       "      <th>BusinessType</th>\n",
       "    </tr>\n",
       "  </thead>\n",
       "  <tbody>\n",
       "    <tr>\n",
       "      <th>18</th>\n",
       "      <td>1148 S Peters St</td>\n",
       "      <td>SEXTANT STAYS</td>\n",
       "      <td>HOTELS (EXC CASINO HOTELS) &amp; MOTELS</td>\n",
       "    </tr>\n",
       "    <tr>\n",
       "      <th>25</th>\n",
       "      <td>822 Perdido St</td>\n",
       "      <td>SEXTANT STAYS</td>\n",
       "      <td>HOTELS (EXC CASINO HOTELS) &amp; MOTELS</td>\n",
       "    </tr>\n",
       "    <tr>\n",
       "      <th>141</th>\n",
       "      <td>822 Howard Ave</td>\n",
       "      <td>SEXTANT STAYS</td>\n",
       "      <td>HOTELS (EXC CASINO HOTELS) &amp; MOTELS</td>\n",
       "    </tr>\n",
       "    <tr>\n",
       "      <th>236</th>\n",
       "      <td>127 Carondelet St</td>\n",
       "      <td>SEXTANT STAYS</td>\n",
       "      <td>HOTELS (EXC CASINO HOTELS) &amp; MOTELS</td>\n",
       "    </tr>\n",
       "    <tr>\n",
       "      <th>319</th>\n",
       "      <td>1148 S Peters St</td>\n",
       "      <td>SEXTANT STAYS</td>\n",
       "      <td>HOTELS (EXC CASINO HOTELS) &amp; MOTELS</td>\n",
       "    </tr>\n",
       "  </tbody>\n",
       "</table>\n",
       "</div>"
      ],
      "text/plain": [
       "       BusinessAddress   BusinessName                         BusinessType\n",
       "18    1148 S Peters St  SEXTANT STAYS  HOTELS (EXC CASINO HOTELS) & MOTELS\n",
       "25      822 Perdido St  SEXTANT STAYS  HOTELS (EXC CASINO HOTELS) & MOTELS\n",
       "141     822 Howard Ave  SEXTANT STAYS  HOTELS (EXC CASINO HOTELS) & MOTELS\n",
       "236  127 Carondelet St  SEXTANT STAYS  HOTELS (EXC CASINO HOTELS) & MOTELS\n",
       "319   1148 S Peters St  SEXTANT STAYS  HOTELS (EXC CASINO HOTELS) & MOTELS"
      ]
     },
     "execution_count": 29,
     "metadata": {},
     "output_type": "execute_result"
    }
   ],
   "source": [
    "cleaned_df[ cleaned_df['BusinessName'] == 'SEXTANT STAYS'][ ['BusinessAddress','BusinessName','BusinessType'] ]"
   ]
  },
  {
   "cell_type": "markdown",
   "metadata": {},
   "source": [
    "## Addresses"
   ]
  },
  {
   "cell_type": "code",
   "execution_count": 30,
   "metadata": {},
   "outputs": [
    {
     "data": {
      "text/plain": [
       "BusinessAddress\n",
       "1201 Convention Center Blvd    2\n",
       "7418 Chef Menteur Hwy          2\n",
       "3626 St Charles Ave            2\n",
       "519 Frenchmen St               2\n",
       "315 Magazine St                2\n",
       "                              ..\n",
       "1800 Canal St                  1\n",
       "P.O. Box 24127 St              1\n",
       "1430 St Charles Ave            1\n",
       "717 Barracks St                1\n",
       "2110 Marais St                 1\n",
       "Name: count, Length: 364, dtype: int64"
      ]
     },
     "execution_count": 30,
     "metadata": {},
     "output_type": "execute_result"
    }
   ],
   "source": [
    "cleaned_df['BusinessAddress'].value_counts()"
   ]
  },
  {
   "cell_type": "markdown",
   "metadata": {},
   "source": [
    "According to the above query, which returns all unique values under the 'BusinessAddress' field, some records show the same value for the 'BusinessAddress' field, which begs the question, how do two different businesses share the same address? Let's take a look at the first result, '1201 Convention Center Blvd', and analyze the two records which show this value in the 'BusinessAddress' field. If these two records have more values in common accross other fields, then this may point to a potential error in the dataset. Let's see."
   ]
  },
  {
   "cell_type": "code",
   "execution_count": 31,
   "metadata": {},
   "outputs": [
    {
     "data": {
      "text/html": [
       "<div>\n",
       "<style scoped>\n",
       "    .dataframe tbody tr th:only-of-type {\n",
       "        vertical-align: middle;\n",
       "    }\n",
       "\n",
       "    .dataframe tbody tr th {\n",
       "        vertical-align: top;\n",
       "    }\n",
       "\n",
       "    .dataframe thead th {\n",
       "        text-align: right;\n",
       "    }\n",
       "</style>\n",
       "<table border=\"1\" class=\"dataframe\">\n",
       "  <thead>\n",
       "    <tr style=\"text-align: right;\">\n",
       "      <th></th>\n",
       "      <th>BusinessAddress</th>\n",
       "      <th>BusinessName</th>\n",
       "      <th>BusinessType</th>\n",
       "      <th>BusinessStartDate</th>\n",
       "    </tr>\n",
       "  </thead>\n",
       "  <tbody>\n",
       "    <tr>\n",
       "      <th>139</th>\n",
       "      <td>1201 Convention Center Blvd</td>\n",
       "      <td>HAMPTON INN &amp; SUITES NEW ORLEANS-CONVENTION CE...</td>\n",
       "      <td>HOTELS (EXC CASINO HOTELS) &amp; MOTELS</td>\n",
       "      <td>2020-04-24</td>\n",
       "    </tr>\n",
       "    <tr>\n",
       "      <th>371</th>\n",
       "      <td>1201 Convention Center Blvd</td>\n",
       "      <td>HAMPTON INN &amp; SUITES NEW ORLEANS-CONVENTION CE...</td>\n",
       "      <td>HOTELS (EXC CASINO HOTELS) &amp; MOTELS</td>\n",
       "      <td>2020-10-26</td>\n",
       "    </tr>\n",
       "  </tbody>\n",
       "</table>\n",
       "</div>"
      ],
      "text/plain": [
       "                 BusinessAddress  \\\n",
       "139  1201 Convention Center Blvd   \n",
       "371  1201 Convention Center Blvd   \n",
       "\n",
       "                                          BusinessName  \\\n",
       "139  HAMPTON INN & SUITES NEW ORLEANS-CONVENTION CE...   \n",
       "371  HAMPTON INN & SUITES NEW ORLEANS-CONVENTION CE...   \n",
       "\n",
       "                            BusinessType BusinessStartDate  \n",
       "139  HOTELS (EXC CASINO HOTELS) & MOTELS        2020-04-24  \n",
       "371  HOTELS (EXC CASINO HOTELS) & MOTELS        2020-10-26  "
      ]
     },
     "execution_count": 31,
     "metadata": {},
     "output_type": "execute_result"
    }
   ],
   "source": [
    "cleaned_df[ cleaned_df['BusinessAddress'] == '1201 Convention Center Blvd'][ ['BusinessAddress','BusinessName','BusinessType','BusinessStartDate'] ]"
   ]
  },
  {
   "cell_type": "markdown",
   "metadata": {},
   "source": [
    "Interestingly, the two records with this same address overlap across multiple fields except for 'BusinessStartDate'. The 'BusinessName' and 'BusinessType' are exactly the same; however, according to the data, they are two different businesses that started up at different times. Most likely this is an error because this data set only contains records for Hotels/motels in the state of Lousiana. To confirm this conjecture, let's check to see if the longitude/lattitude values are the same;"
   ]
  },
  {
   "cell_type": "code",
   "execution_count": 32,
   "metadata": {},
   "outputs": [
    {
     "data": {
      "text/html": [
       "<div>\n",
       "<style scoped>\n",
       "    .dataframe tbody tr th:only-of-type {\n",
       "        vertical-align: middle;\n",
       "    }\n",
       "\n",
       "    .dataframe tbody tr th {\n",
       "        vertical-align: top;\n",
       "    }\n",
       "\n",
       "    .dataframe thead th {\n",
       "        text-align: right;\n",
       "    }\n",
       "</style>\n",
       "<table border=\"1\" class=\"dataframe\">\n",
       "  <thead>\n",
       "    <tr style=\"text-align: right;\">\n",
       "      <th></th>\n",
       "      <th>BusinessAddress</th>\n",
       "      <th>LocationX</th>\n",
       "      <th>LocationY</th>\n",
       "    </tr>\n",
       "  </thead>\n",
       "  <tbody>\n",
       "    <tr>\n",
       "      <th>139</th>\n",
       "      <td>1201 Convention Center Blvd</td>\n",
       "      <td>3.682617e+06</td>\n",
       "      <td>525900.845757</td>\n",
       "    </tr>\n",
       "    <tr>\n",
       "      <th>371</th>\n",
       "      <td>1201 Convention Center Blvd</td>\n",
       "      <td>3.682617e+06</td>\n",
       "      <td>525900.845757</td>\n",
       "    </tr>\n",
       "  </tbody>\n",
       "</table>\n",
       "</div>"
      ],
      "text/plain": [
       "                 BusinessAddress     LocationX      LocationY\n",
       "139  1201 Convention Center Blvd  3.682617e+06  525900.845757\n",
       "371  1201 Convention Center Blvd  3.682617e+06  525900.845757"
      ]
     },
     "execution_count": 32,
     "metadata": {},
     "output_type": "execute_result"
    }
   ],
   "source": [
    "cleaned_df[ cleaned_df['BusinessAddress'] == '1201 Convention Center Blvd'][ ['BusinessAddress','LocationX','LocationY'] ]"
   ]
  },
  {
   "cell_type": "markdown",
   "metadata": {},
   "source": [
    "... and yes they are, which most likely means this was an error."
   ]
  },
  {
   "cell_type": "markdown",
   "metadata": {},
   "source": [
    "## Let's see which business is the oldest in this dataset"
   ]
  },
  {
   "cell_type": "code",
   "execution_count": 70,
   "metadata": {},
   "outputs": [
    {
     "data": {
      "text/html": [
       "<div>\n",
       "<style scoped>\n",
       "    .dataframe tbody tr th:only-of-type {\n",
       "        vertical-align: middle;\n",
       "    }\n",
       "\n",
       "    .dataframe tbody tr th {\n",
       "        vertical-align: top;\n",
       "    }\n",
       "\n",
       "    .dataframe thead th {\n",
       "        text-align: right;\n",
       "    }\n",
       "</style>\n",
       "<table border=\"1\" class=\"dataframe\">\n",
       "  <thead>\n",
       "    <tr style=\"text-align: right;\">\n",
       "      <th></th>\n",
       "      <th>BusinessAddress</th>\n",
       "      <th>BusinessName</th>\n",
       "      <th>BusinessType</th>\n",
       "      <th>BusinessStartDate</th>\n",
       "    </tr>\n",
       "  </thead>\n",
       "  <tbody>\n",
       "    <tr>\n",
       "      <th>146</th>\n",
       "      <td>214 Royal St</td>\n",
       "      <td>MONTELEONE HOTEL</td>\n",
       "      <td>HOTELS (EXC CASINO HOTELS) &amp; MOTELS</td>\n",
       "      <td>1968-01-01</td>\n",
       "    </tr>\n",
       "  </tbody>\n",
       "</table>\n",
       "</div>"
      ],
      "text/plain": [
       "    BusinessAddress      BusinessName                         BusinessType  \\\n",
       "146    214 Royal St  MONTELEONE HOTEL  HOTELS (EXC CASINO HOTELS) & MOTELS   \n",
       "\n",
       "    BusinessStartDate  \n",
       "146        1968-01-01  "
      ]
     },
     "execution_count": 70,
     "metadata": {},
     "output_type": "execute_result"
    }
   ],
   "source": [
    "oldest_business = cleaned_df[ cleaned_df['BusinessStartDate'] == cleaned_df['BusinessStartDate'].min()][ ['BusinessAddress','BusinessName','BusinessType','BusinessStartDate'] ]\n",
    "oldest_business"
   ]
  },
  {
   "cell_type": "markdown",
   "metadata": {},
   "source": [
    "... and the result is 'MONTELEONE HOTEL' which started in 1968."
   ]
  },
  {
   "cell_type": "markdown",
   "metadata": {},
   "source": []
  },
  {
   "cell_type": "code",
   "execution_count": 34,
   "metadata": {},
   "outputs": [
    {
     "data": {
      "text/html": [
       "<div>\n",
       "<style scoped>\n",
       "    .dataframe tbody tr th:only-of-type {\n",
       "        vertical-align: middle;\n",
       "    }\n",
       "\n",
       "    .dataframe tbody tr th {\n",
       "        vertical-align: top;\n",
       "    }\n",
       "\n",
       "    .dataframe thead th {\n",
       "        text-align: right;\n",
       "    }\n",
       "</style>\n",
       "<table border=\"1\" class=\"dataframe\">\n",
       "  <thead>\n",
       "    <tr style=\"text-align: right;\">\n",
       "      <th></th>\n",
       "      <th>BusinessAddress</th>\n",
       "      <th>BusinessName</th>\n",
       "      <th>BusinessType</th>\n",
       "      <th>BusinessStartDate</th>\n",
       "    </tr>\n",
       "  </thead>\n",
       "  <tbody>\n",
       "    <tr>\n",
       "      <th>97</th>\n",
       "      <td>222 Loyola Ave</td>\n",
       "      <td>222 LOYOLA TENANT</td>\n",
       "      <td>HOTELS (EXC CASINO HOTELS) &amp; MOTELS</td>\n",
       "      <td>2024-04-03</td>\n",
       "    </tr>\n",
       "  </tbody>\n",
       "</table>\n",
       "</div>"
      ],
      "text/plain": [
       "   BusinessAddress       BusinessName                         BusinessType  \\\n",
       "97  222 Loyola Ave  222 LOYOLA TENANT  HOTELS (EXC CASINO HOTELS) & MOTELS   \n",
       "\n",
       "   BusinessStartDate  \n",
       "97        2024-04-03  "
      ]
     },
     "execution_count": 34,
     "metadata": {},
     "output_type": "execute_result"
    }
   ],
   "source": [
    "cleaned_df[ cleaned_df['BusinessStartDate'] == cleaned_df['BusinessStartDate'].max()][ ['BusinessAddress','BusinessName','BusinessType','BusinessStartDate'] ]"
   ]
  },
  {
   "cell_type": "markdown",
   "metadata": {},
   "source": [
    "whereas the most recently started business is '222 LOYOLA TENANT' which started up, as of this writing, at the beginning of this month."
   ]
  },
  {
   "cell_type": "markdown",
   "metadata": {},
   "source": [
    "## Let's see how many businesses started up BEFORE and AFTER the start of the century"
   ]
  },
  {
   "cell_type": "code",
   "execution_count": 35,
   "metadata": {},
   "outputs": [
    {
     "data": {
      "text/plain": [
       "('Before 2000: ', 51, ' After 2000: ', 330)"
      ]
     },
     "execution_count": 35,
     "metadata": {},
     "output_type": "execute_result"
    }
   ],
   "source": [
    "all_dates = cleaned_df['BusinessStartDate']\n",
    "all_dates_before_2000 = [(int(date[:4]) < 2000) for date in all_dates]\n",
    "all_dates[ all_dates_before_2000 ]\n",
    "\n",
    "all_dates_after_2000 = [(int(date[:4]) >= 2000) for date in all_dates]\n",
    "\n",
    "\"Before 2000: \",cleaned_df[ all_dates_before_2000 ].shape[0],\" After 2000: \",cleaned_df[ all_dates_after_2000 ].shape[0]\n",
    "\n"
   ]
  },
  {
   "cell_type": "markdown",
   "metadata": {},
   "source": [
    "Accordingly, only 51 out of the total 381 entries for businesses were started up before the turn of the century (i.e. 2000). "
   ]
  },
  {
   "cell_type": "markdown",
   "metadata": {},
   "source": [
    "## Show all 'Hotels (Exc Casino Hotels) & Motels' by order of Start Date in ascending order"
   ]
  },
  {
   "cell_type": "code",
   "execution_count": 36,
   "metadata": {},
   "outputs": [
    {
     "data": {
      "text/html": [
       "<div>\n",
       "<style scoped>\n",
       "    .dataframe tbody tr th:only-of-type {\n",
       "        vertical-align: middle;\n",
       "    }\n",
       "\n",
       "    .dataframe tbody tr th {\n",
       "        vertical-align: top;\n",
       "    }\n",
       "\n",
       "    .dataframe thead th {\n",
       "        text-align: right;\n",
       "    }\n",
       "</style>\n",
       "<table border=\"1\" class=\"dataframe\">\n",
       "  <thead>\n",
       "    <tr style=\"text-align: right;\">\n",
       "      <th></th>\n",
       "      <th>OBJECTID</th>\n",
       "      <th>BusinessAddress</th>\n",
       "      <th>BusinessName</th>\n",
       "      <th>BusinessType</th>\n",
       "      <th>LocationX</th>\n",
       "      <th>LocationY</th>\n",
       "      <th>State</th>\n",
       "      <th>Zip</th>\n",
       "    </tr>\n",
       "    <tr>\n",
       "      <th>BusinessStartDate</th>\n",
       "      <th></th>\n",
       "      <th></th>\n",
       "      <th></th>\n",
       "      <th></th>\n",
       "      <th></th>\n",
       "      <th></th>\n",
       "      <th></th>\n",
       "      <th></th>\n",
       "    </tr>\n",
       "  </thead>\n",
       "  <tbody>\n",
       "    <tr>\n",
       "      <th>1968-01-01</th>\n",
       "      <td>278</td>\n",
       "      <td>214 Royal St</td>\n",
       "      <td>MONTELEONE HOTEL</td>\n",
       "      <td>HOTELS (EXC CASINO HOTELS) &amp; MOTELS</td>\n",
       "      <td>3.681611e+06</td>\n",
       "      <td>531183.872066</td>\n",
       "      <td>LA</td>\n",
       "      <td>70130</td>\n",
       "    </tr>\n",
       "    <tr>\n",
       "      <th>1968-04-01</th>\n",
       "      <td>76</td>\n",
       "      <td>330 Loyola Ave</td>\n",
       "      <td>HOLIDAY INN DTN SUPERDOME HTM</td>\n",
       "      <td>HOTELS (EXC CASINO HOTELS) &amp; MOTELS</td>\n",
       "      <td>3.679295e+06</td>\n",
       "      <td>530648.055362</td>\n",
       "      <td>LA</td>\n",
       "      <td>70112</td>\n",
       "    </tr>\n",
       "    <tr>\n",
       "      <th>1974-01-01</th>\n",
       "      <td>113</td>\n",
       "      <td>320 Decatur St</td>\n",
       "      <td>BIENVILLE HOUSE MOTOR HOTEL</td>\n",
       "      <td>HOTELS (EXC CASINO HOTELS) &amp; MOTELS</td>\n",
       "      <td>3.682413e+06</td>\n",
       "      <td>530959.820226</td>\n",
       "      <td>LA</td>\n",
       "      <td>70130</td>\n",
       "    </tr>\n",
       "    <tr>\n",
       "      <th>1979-01-15</th>\n",
       "      <td>77</td>\n",
       "      <td>301 Dauphine St</td>\n",
       "      <td>CHATEAU LEMOYNE  ATTN: FINANCE DEPT:</td>\n",
       "      <td>HOTELS (EXC CASINO HOTELS) &amp; MOTELS</td>\n",
       "      <td>3.681072e+06</td>\n",
       "      <td>531801.477827</td>\n",
       "      <td>LA</td>\n",
       "      <td>70112</td>\n",
       "    </tr>\n",
       "    <tr>\n",
       "      <th>1981-01-01</th>\n",
       "      <td>320</td>\n",
       "      <td>920 N Rampart St</td>\n",
       "      <td>BEST WESTERN FRENCH QUARTER   LANDMARK HOTEL</td>\n",
       "      <td>HOTELS (EXC CASINO HOTELS) &amp; MOTELS</td>\n",
       "      <td>3.682008e+06</td>\n",
       "      <td>534059.252613</td>\n",
       "      <td>LA</td>\n",
       "      <td>70116</td>\n",
       "    </tr>\n",
       "    <tr>\n",
       "      <th>...</th>\n",
       "      <td>...</td>\n",
       "      <td>...</td>\n",
       "      <td>...</td>\n",
       "      <td>...</td>\n",
       "      <td>...</td>\n",
       "      <td>...</td>\n",
       "      <td>...</td>\n",
       "      <td>...</td>\n",
       "    </tr>\n",
       "    <tr>\n",
       "      <th>2024-01-02</th>\n",
       "      <td>268</td>\n",
       "      <td>104 St Charles Ave</td>\n",
       "      <td>THE RUBENSTEIN HOTEL</td>\n",
       "      <td>HOTELS (EXC CASINO HOTELS) &amp; MOTELS</td>\n",
       "      <td>3.681126e+06</td>\n",
       "      <td>530513.066306</td>\n",
       "      <td>LA</td>\n",
       "      <td>70130</td>\n",
       "    </tr>\n",
       "    <tr>\n",
       "      <th>2024-01-05</th>\n",
       "      <td>151</td>\n",
       "      <td>747 St Charles Ave</td>\n",
       "      <td>LITTLE LAGNIAPPE HOTEL LLC</td>\n",
       "      <td>HOTELS (EXC CASINO HOTELS) &amp; MOTELS</td>\n",
       "      <td>3.680394e+06</td>\n",
       "      <td>528213.912448</td>\n",
       "      <td>LA</td>\n",
       "      <td>70130</td>\n",
       "    </tr>\n",
       "    <tr>\n",
       "      <th>2024-01-30</th>\n",
       "      <td>159</td>\n",
       "      <td>2222 Poydras St</td>\n",
       "      <td>DA EMPIRE</td>\n",
       "      <td>HOTELS (EXC CASINO HOTELS) &amp; MOTELS</td>\n",
       "      <td>3.674729e+06</td>\n",
       "      <td>531731.397187</td>\n",
       "      <td>LA</td>\n",
       "      <td>70119</td>\n",
       "    </tr>\n",
       "    <tr>\n",
       "      <th>2024-03-27</th>\n",
       "      <td>277</td>\n",
       "      <td>2301-2329 Burgundy St</td>\n",
       "      <td>HOTEL PETER &amp; PAUL</td>\n",
       "      <td>HOTELS (EXC CASINO HOTELS) &amp; MOTELS</td>\n",
       "      <td>3.678692e+06</td>\n",
       "      <td>530187.709420</td>\n",
       "      <td>LA</td>\n",
       "      <td>70117</td>\n",
       "    </tr>\n",
       "    <tr>\n",
       "      <th>2024-04-03</th>\n",
       "      <td>270</td>\n",
       "      <td>222 Loyola Ave</td>\n",
       "      <td>222 LOYOLA TENANT</td>\n",
       "      <td>HOTELS (EXC CASINO HOTELS) &amp; MOTELS</td>\n",
       "      <td>3.678692e+06</td>\n",
       "      <td>530187.709420</td>\n",
       "      <td>LA</td>\n",
       "      <td>70112</td>\n",
       "    </tr>\n",
       "  </tbody>\n",
       "</table>\n",
       "<p>253 rows × 8 columns</p>\n",
       "</div>"
      ],
      "text/plain": [
       "                   OBJECTID        BusinessAddress  \\\n",
       "BusinessStartDate                                    \n",
       "1968-01-01              278           214 Royal St   \n",
       "1968-04-01               76         330 Loyola Ave   \n",
       "1974-01-01              113         320 Decatur St   \n",
       "1979-01-15               77        301 Dauphine St   \n",
       "1981-01-01              320       920 N Rampart St   \n",
       "...                     ...                    ...   \n",
       "2024-01-02              268     104 St Charles Ave   \n",
       "2024-01-05              151     747 St Charles Ave   \n",
       "2024-01-30              159        2222 Poydras St   \n",
       "2024-03-27              277  2301-2329 Burgundy St   \n",
       "2024-04-03              270         222 Loyola Ave   \n",
       "\n",
       "                                                   BusinessName  \\\n",
       "BusinessStartDate                                                 \n",
       "1968-01-01                                     MONTELEONE HOTEL   \n",
       "1968-04-01                        HOLIDAY INN DTN SUPERDOME HTM   \n",
       "1974-01-01                          BIENVILLE HOUSE MOTOR HOTEL   \n",
       "1979-01-15                 CHATEAU LEMOYNE  ATTN: FINANCE DEPT:   \n",
       "1981-01-01         BEST WESTERN FRENCH QUARTER   LANDMARK HOTEL   \n",
       "...                                                         ...   \n",
       "2024-01-02                                 THE RUBENSTEIN HOTEL   \n",
       "2024-01-05                           LITTLE LAGNIAPPE HOTEL LLC   \n",
       "2024-01-30                                            DA EMPIRE   \n",
       "2024-03-27                                   HOTEL PETER & PAUL   \n",
       "2024-04-03                                    222 LOYOLA TENANT   \n",
       "\n",
       "                                          BusinessType     LocationX  \\\n",
       "BusinessStartDate                                                      \n",
       "1968-01-01         HOTELS (EXC CASINO HOTELS) & MOTELS  3.681611e+06   \n",
       "1968-04-01         HOTELS (EXC CASINO HOTELS) & MOTELS  3.679295e+06   \n",
       "1974-01-01         HOTELS (EXC CASINO HOTELS) & MOTELS  3.682413e+06   \n",
       "1979-01-15         HOTELS (EXC CASINO HOTELS) & MOTELS  3.681072e+06   \n",
       "1981-01-01         HOTELS (EXC CASINO HOTELS) & MOTELS  3.682008e+06   \n",
       "...                                                ...           ...   \n",
       "2024-01-02         HOTELS (EXC CASINO HOTELS) & MOTELS  3.681126e+06   \n",
       "2024-01-05         HOTELS (EXC CASINO HOTELS) & MOTELS  3.680394e+06   \n",
       "2024-01-30         HOTELS (EXC CASINO HOTELS) & MOTELS  3.674729e+06   \n",
       "2024-03-27         HOTELS (EXC CASINO HOTELS) & MOTELS  3.678692e+06   \n",
       "2024-04-03         HOTELS (EXC CASINO HOTELS) & MOTELS  3.678692e+06   \n",
       "\n",
       "                       LocationY State    Zip  \n",
       "BusinessStartDate                              \n",
       "1968-01-01         531183.872066    LA  70130  \n",
       "1968-04-01         530648.055362    LA  70112  \n",
       "1974-01-01         530959.820226    LA  70130  \n",
       "1979-01-15         531801.477827    LA  70112  \n",
       "1981-01-01         534059.252613    LA  70116  \n",
       "...                          ...   ...    ...  \n",
       "2024-01-02         530513.066306    LA  70130  \n",
       "2024-01-05         528213.912448    LA  70130  \n",
       "2024-01-30         531731.397187    LA  70119  \n",
       "2024-03-27         530187.709420    LA  70117  \n",
       "2024-04-03         530187.709420    LA  70112  \n",
       "\n",
       "[253 rows x 8 columns]"
      ]
     },
     "execution_count": 36,
     "metadata": {},
     "output_type": "execute_result"
    }
   ],
   "source": [
    "cleaned_df[ cleaned_df['BusinessType'] == 'HOTELS (EXC CASINO HOTELS) & MOTELS'].sort_values(by='BusinessStartDate', ascending=True).set_index('BusinessStartDate')"
   ]
  },
  {
   "cell_type": "code",
   "execution_count": 37,
   "metadata": {},
   "outputs": [
    {
     "data": {
      "text/html": [
       "<div>\n",
       "<style scoped>\n",
       "    .dataframe tbody tr th:only-of-type {\n",
       "        vertical-align: middle;\n",
       "    }\n",
       "\n",
       "    .dataframe tbody tr th {\n",
       "        vertical-align: top;\n",
       "    }\n",
       "\n",
       "    .dataframe thead th {\n",
       "        text-align: right;\n",
       "    }\n",
       "</style>\n",
       "<table border=\"1\" class=\"dataframe\">\n",
       "  <thead>\n",
       "    <tr style=\"text-align: right;\">\n",
       "      <th></th>\n",
       "      <th>OBJECTID</th>\n",
       "      <th>BusinessAddress</th>\n",
       "      <th>BusinessName</th>\n",
       "      <th>BusinessType</th>\n",
       "      <th>LocationX</th>\n",
       "      <th>LocationY</th>\n",
       "      <th>State</th>\n",
       "      <th>Zip</th>\n",
       "    </tr>\n",
       "    <tr>\n",
       "      <th>BusinessStartDate</th>\n",
       "      <th></th>\n",
       "      <th></th>\n",
       "      <th></th>\n",
       "      <th></th>\n",
       "      <th></th>\n",
       "      <th></th>\n",
       "      <th></th>\n",
       "      <th></th>\n",
       "    </tr>\n",
       "  </thead>\n",
       "  <tbody>\n",
       "    <tr>\n",
       "      <th>1981-06-15</th>\n",
       "      <td>78</td>\n",
       "      <td>1748 Prytania St</td>\n",
       "      <td>ST CHARLES GUEST HOUSE</td>\n",
       "      <td>BED &amp; BREAKFAST INNS</td>\n",
       "      <td>3.679125e+06</td>\n",
       "      <td>524346.630908</td>\n",
       "      <td>LA</td>\n",
       "      <td>70130</td>\n",
       "    </tr>\n",
       "    <tr>\n",
       "      <th>1995-02-22</th>\n",
       "      <td>283</td>\n",
       "      <td>2020 Burgundy St</td>\n",
       "      <td>SUN OAK MUSEUM AND GUEST HOUSE</td>\n",
       "      <td>BED &amp; BREAKFAST INNS</td>\n",
       "      <td>3.684488e+06</td>\n",
       "      <td>535509.685382</td>\n",
       "      <td>LA</td>\n",
       "      <td>70116</td>\n",
       "    </tr>\n",
       "    <tr>\n",
       "      <th>1995-09-19</th>\n",
       "      <td>87</td>\n",
       "      <td>1146 Constantinople St</td>\n",
       "      <td>CHIMES BED &amp; BREAKFAST (THE)</td>\n",
       "      <td>BED &amp; BREAKFAST INNS</td>\n",
       "      <td>3.672389e+06</td>\n",
       "      <td>519896.428664</td>\n",
       "      <td>LA</td>\n",
       "      <td>70115</td>\n",
       "    </tr>\n",
       "    <tr>\n",
       "      <th>1996-11-15</th>\n",
       "      <td>121</td>\n",
       "      <td>2316 Dauphine St</td>\n",
       "      <td>LA DAUPHINE</td>\n",
       "      <td>BED &amp; BREAKFAST INNS</td>\n",
       "      <td>3.685647e+06</td>\n",
       "      <td>535191.644550</td>\n",
       "      <td>LA</td>\n",
       "      <td>70117</td>\n",
       "    </tr>\n",
       "    <tr>\n",
       "      <th>1998-01-07</th>\n",
       "      <td>4</td>\n",
       "      <td>1303 Governor Nicholls St</td>\n",
       "      <td>MONROSE ROW B &amp; B</td>\n",
       "      <td>BED &amp; BREAKFAST INNS</td>\n",
       "      <td>3.681927e+06</td>\n",
       "      <td>535360.707078</td>\n",
       "      <td>LA</td>\n",
       "      <td>70116</td>\n",
       "    </tr>\n",
       "    <tr>\n",
       "      <th>...</th>\n",
       "      <td>...</td>\n",
       "      <td>...</td>\n",
       "      <td>...</td>\n",
       "      <td>...</td>\n",
       "      <td>...</td>\n",
       "      <td>...</td>\n",
       "      <td>...</td>\n",
       "      <td>...</td>\n",
       "    </tr>\n",
       "    <tr>\n",
       "      <th>2023-07-25</th>\n",
       "      <td>377</td>\n",
       "      <td>1210 N Galvez St</td>\n",
       "      <td>ACCESSORY B&amp;B</td>\n",
       "      <td>BED &amp; BREAKFAST INNS</td>\n",
       "      <td>3.679571e+06</td>\n",
       "      <td>537208.963400</td>\n",
       "      <td>LA</td>\n",
       "      <td>70116</td>\n",
       "    </tr>\n",
       "    <tr>\n",
       "      <th>2023-08-18</th>\n",
       "      <td>273</td>\n",
       "      <td>1212 Magazine St</td>\n",
       "      <td>1501 ORETHA CASTLE HALEY BLVD LLC</td>\n",
       "      <td>BED &amp; BREAKFAST INNS</td>\n",
       "      <td>3.680644e+06</td>\n",
       "      <td>525483.642749</td>\n",
       "      <td>LA</td>\n",
       "      <td>70130</td>\n",
       "    </tr>\n",
       "    <tr>\n",
       "      <th>2023-08-23</th>\n",
       "      <td>378</td>\n",
       "      <td>917 N Villere St</td>\n",
       "      <td>PAUL COUGHLIN</td>\n",
       "      <td>BED &amp; BREAKFAST INNS</td>\n",
       "      <td>3.680779e+06</td>\n",
       "      <td>534922.715462</td>\n",
       "      <td>LA</td>\n",
       "      <td>70116</td>\n",
       "    </tr>\n",
       "    <tr>\n",
       "      <th>2023-11-03</th>\n",
       "      <td>381</td>\n",
       "      <td>4417 Dryades St</td>\n",
       "      <td>4417 DRYADES ST LLC</td>\n",
       "      <td>BED &amp; BREAKFAST INNS</td>\n",
       "      <td>3.670505e+06</td>\n",
       "      <td>522023.371578</td>\n",
       "      <td>LA</td>\n",
       "      <td>70115</td>\n",
       "    </tr>\n",
       "    <tr>\n",
       "      <th>2023-12-07</th>\n",
       "      <td>158</td>\n",
       "      <td>1724 Marais St</td>\n",
       "      <td>L’AUBERGE PLACAGE</td>\n",
       "      <td>BED &amp; BREAKFAST INNS</td>\n",
       "      <td>3.683351e+06</td>\n",
       "      <td>536507.483847</td>\n",
       "      <td>LA</td>\n",
       "      <td>70116</td>\n",
       "    </tr>\n",
       "  </tbody>\n",
       "</table>\n",
       "<p>99 rows × 8 columns</p>\n",
       "</div>"
      ],
      "text/plain": [
       "                   OBJECTID            BusinessAddress  \\\n",
       "BusinessStartDate                                        \n",
       "1981-06-15               78           1748 Prytania St   \n",
       "1995-02-22              283           2020 Burgundy St   \n",
       "1995-09-19               87     1146 Constantinople St   \n",
       "1996-11-15              121           2316 Dauphine St   \n",
       "1998-01-07                4  1303 Governor Nicholls St   \n",
       "...                     ...                        ...   \n",
       "2023-07-25              377           1210 N Galvez St   \n",
       "2023-08-18              273           1212 Magazine St   \n",
       "2023-08-23              378           917 N Villere St   \n",
       "2023-11-03              381            4417 Dryades St   \n",
       "2023-12-07              158             1724 Marais St   \n",
       "\n",
       "                                        BusinessName          BusinessType  \\\n",
       "BusinessStartDate                                                            \n",
       "1981-06-15                    ST CHARLES GUEST HOUSE  BED & BREAKFAST INNS   \n",
       "1995-02-22            SUN OAK MUSEUM AND GUEST HOUSE  BED & BREAKFAST INNS   \n",
       "1995-09-19              CHIMES BED & BREAKFAST (THE)  BED & BREAKFAST INNS   \n",
       "1996-11-15                               LA DAUPHINE  BED & BREAKFAST INNS   \n",
       "1998-01-07                         MONROSE ROW B & B  BED & BREAKFAST INNS   \n",
       "...                                              ...                   ...   \n",
       "2023-07-25                             ACCESSORY B&B  BED & BREAKFAST INNS   \n",
       "2023-08-18         1501 ORETHA CASTLE HALEY BLVD LLC  BED & BREAKFAST INNS   \n",
       "2023-08-23                             PAUL COUGHLIN  BED & BREAKFAST INNS   \n",
       "2023-11-03                       4417 DRYADES ST LLC  BED & BREAKFAST INNS   \n",
       "2023-12-07                         L’AUBERGE PLACAGE  BED & BREAKFAST INNS   \n",
       "\n",
       "                      LocationX      LocationY State    Zip  \n",
       "BusinessStartDate                                            \n",
       "1981-06-15         3.679125e+06  524346.630908    LA  70130  \n",
       "1995-02-22         3.684488e+06  535509.685382    LA  70116  \n",
       "1995-09-19         3.672389e+06  519896.428664    LA  70115  \n",
       "1996-11-15         3.685647e+06  535191.644550    LA  70117  \n",
       "1998-01-07         3.681927e+06  535360.707078    LA  70116  \n",
       "...                         ...            ...   ...    ...  \n",
       "2023-07-25         3.679571e+06  537208.963400    LA  70116  \n",
       "2023-08-18         3.680644e+06  525483.642749    LA  70130  \n",
       "2023-08-23         3.680779e+06  534922.715462    LA  70116  \n",
       "2023-11-03         3.670505e+06  522023.371578    LA  70115  \n",
       "2023-12-07         3.683351e+06  536507.483847    LA  70116  \n",
       "\n",
       "[99 rows x 8 columns]"
      ]
     },
     "execution_count": 37,
     "metadata": {},
     "output_type": "execute_result"
    }
   ],
   "source": [
    "cleaned_df[ cleaned_df['BusinessType'] == 'BED & BREAKFAST INNS'].sort_values(by='BusinessStartDate', ascending=True).set_index('BusinessStartDate')"
   ]
  },
  {
   "cell_type": "markdown",
   "metadata": {},
   "source": [
    "## Data visualization\n",
    "In this section, you will create a few **visualizations** that show some of the insights you have gathered from this data.\n",
    "- Create at least 5 different visualizations, where each visualization shows different insights into the data.\n",
    "- Use at least 3 different visualization types (e.g. bar charts, line charts, stacked area charts, pie charts, etc)\n",
    "- Create a Markdown cell and a Code cell for each, where you explain and show the visualizations, respectively.\n",
    "- Create as many additional cells as you need to prepare the data for the visualizations."
   ]
  },
  {
   "cell_type": "markdown",
   "metadata": {},
   "source": [
    "## 1. Bar chart for all occurences of each value in the 'BusinessType' field"
   ]
  },
  {
   "cell_type": "code",
   "execution_count": 68,
   "metadata": {},
   "outputs": [
    {
     "data": {
      "text/plain": [
       "([<matplotlib.patches.Wedge at 0x137dcfcb0>,\n",
       "  <matplotlib.patches.Wedge at 0x1420ee420>,\n",
       "  <matplotlib.patches.Wedge at 0x142108da0>,\n",
       "  <matplotlib.patches.Wedge at 0x1421091f0>,\n",
       "  <matplotlib.patches.Wedge at 0x142109610>,\n",
       "  <matplotlib.patches.Wedge at 0x142109910>],\n",
       " [Text(0.7533984502991984, 0.8014928415692598, 'Hot. & Mot.'),\n",
       "  Text(-0.19398971047180188, 1.0827594341454922, 'B & B Inns'),\n",
       "  Text(-0.32608742087229486, 1.0505555644271534, 'Trav. Accom.'),\n",
       "  Text(-0.7467640932940232, -0.8076777754567446, 'R & B Houses'),\n",
       "  Text(1.0892105521907591, -0.15368920910819237, 'B & B 1-5 rooms'),\n",
       "  Text(1.0996634623440522, -0.027207895646138753, 'Casino Hot.')])"
      ]
     },
     "execution_count": 68,
     "metadata": {},
     "output_type": "execute_result"
    },
    {
     "data": {
      "image/png": "[encoded data removed]",
      "text/plain": [
       "<Figure size 640x480 with 1 Axes>"
      ]
     },
     "metadata": {},
     "output_type": "display_data"
    }
   ],
   "source": [
    "cleaned_df.groupby(\"BusinessType\")['BusinessType'].count()\n",
    "labels = 'Hot. & Mot.','B & B Inns','Trav. Accom.','R & B Houses','B & B 1-5 rooms','Casino Hot.'\n",
    "percentage = [percent for percent in (cleaned_df.groupby(\"BusinessType\")['BusinessType'].count())]\n",
    "\n",
    "fig, ax = plt.subplots()\n",
    "ax.pie(percentage, labels=labels)\n"
   ]
  },
  {
   "cell_type": "markdown",
   "metadata": {},
   "source": [
    "## 2. A line plot with all businesses for every decade"
   ]
  },
  {
   "cell_type": "code",
   "execution_count": 72,
   "metadata": {},
   "outputs": [
    {
     "data": {
      "text/html": [
       "<div>\n",
       "<style scoped>\n",
       "    .dataframe tbody tr th:only-of-type {\n",
       "        vertical-align: middle;\n",
       "    }\n",
       "\n",
       "    .dataframe tbody tr th {\n",
       "        vertical-align: top;\n",
       "    }\n",
       "\n",
       "    .dataframe thead th {\n",
       "        text-align: right;\n",
       "    }\n",
       "</style>\n",
       "<table border=\"1\" class=\"dataframe\">\n",
       "  <thead>\n",
       "    <tr style=\"text-align: right;\">\n",
       "      <th></th>\n",
       "      <th>BusinessAddress</th>\n",
       "      <th>BusinessName</th>\n",
       "      <th>BusinessType</th>\n",
       "      <th>BusinessStartDate</th>\n",
       "    </tr>\n",
       "  </thead>\n",
       "  <tbody>\n",
       "    <tr>\n",
       "      <th>146</th>\n",
       "      <td>214 Royal St</td>\n",
       "      <td>MONTELEONE HOTEL</td>\n",
       "      <td>HOTELS (EXC CASINO HOTELS) &amp; MOTELS</td>\n",
       "      <td>1968-01-01</td>\n",
       "    </tr>\n",
       "  </tbody>\n",
       "</table>\n",
       "</div>"
      ],
      "text/plain": [
       "    BusinessAddress      BusinessName                         BusinessType  \\\n",
       "146    214 Royal St  MONTELEONE HOTEL  HOTELS (EXC CASINO HOTELS) & MOTELS   \n",
       "\n",
       "    BusinessStartDate  \n",
       "146        1968-01-01  "
      ]
     },
     "execution_count": 72,
     "metadata": {},
     "output_type": "execute_result"
    }
   ],
   "source": [
    "oldest_business"
   ]
  },
  {
   "cell_type": "markdown",
   "metadata": {},
   "source": [
    "As we know from previous queries, the records for this dataset begin from the year 1968, which means this covers roughly 5 decades."
   ]
  },
  {
   "cell_type": "code",
   "execution_count": 148,
   "metadata": {},
   "outputs": [
    {
     "data": {
      "text/plain": [
       "[<matplotlib.lines.Line2D at 0x1425c8e90>]"
      ]
     },
     "execution_count": 148,
     "metadata": {},
     "output_type": "execute_result"
    },
    {
     "data": {
      "image/png": "[encoded data removed]",
      "text/plain": [
       "<Figure size 640x480 with 1 Axes>"
      ]
     },
     "metadata": {},
     "output_type": "display_data"
    }
   ],
   "source": [
    "decade = 1970\n",
    "subsets_for_each_decade = []\n",
    "for i in range(7):\n",
    "    subsets_for_each_decade += [ [ int(date[:4]) >= (decade-10) and int(date[:4]) < decade for date in all_dates] ]\n",
    "    #print([(int(date[:4]) < decade) for date in all_dates])\n",
    "    #print(decade)\n",
    "    decade += 10\n",
    "y = []\n",
    "x = ['1960','1970','1980','1990','2000','2010','2020']\n",
    "for subset in subsets_for_each_decade:\n",
    "    y += [subset.count(True)]\n",
    "\n",
    "plt.xlabel('Decade')\n",
    "plt.ylabel('Number of Businesses Starting Up')\n",
    "plt.plot(x,y)\n"
   ]
  },
  {
   "cell_type": "markdown",
   "metadata": {},
   "source": [
    "This graph shows that the decade of 2010-2020 was when the most amount of businesses started up."
   ]
  },
  {
   "cell_type": "markdown",
   "metadata": {},
   "source": [
    "## 3. "
   ]
  },
  {
   "cell_type": "code",
   "execution_count": 152,
   "metadata": {},
   "outputs": [
    {
     "data": {
      "text/plain": [
       "<BarContainer object of 2 artists>"
      ]
     },
     "execution_count": 152,
     "metadata": {},
     "output_type": "execute_result"
    },
    {
     "data": {
      "image/png": "[encoded data removed]",
      "text/plain": [
       "<Figure size 640x480 with 1 Axes>"
      ]
     },
     "metadata": {},
     "output_type": "display_data"
    }
   ],
   "source": [
    "y = [all_dates_before_2000.count(True),all_dates_after_2000.count(True)]\n",
    "x = ['Before 2000','After 2000']\n",
    "plt.ylabel('Number of Businesses Starting Up')\n",
    "plt.bar(x,y)\n",
    "\n"
   ]
  }
 ],
 "metadata": {
  "kernelspec": {
   "display_name": "Python 3",
   "language": "python",
   "name": "python3"
  },
  "language_info": {
   "codemirror_mode": {
    "name": "ipython",
    "version": 3
   },
   "file_extension": ".py",
   "mimetype": "text/x-python",
   "name": "python",
   "nbconvert_exporter": "python",
   "pygments_lexer": "ipython3",
   "version": "3.12.1"
  }
 },
 "nbformat": 4,
 "nbformat_minor": 4
}
